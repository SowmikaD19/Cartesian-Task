{
 "cells": [
  {
   "cell_type": "markdown",
   "id": "c067e2b2",
   "metadata": {},
   "source": [
    "### QUESTION 1"
   ]
  },
  {
   "cell_type": "code",
   "execution_count": 5,
   "id": "f0670a1b",
   "metadata": {},
   "outputs": [
    {
     "name": "stdout",
     "output_type": "stream",
     "text": [
      "This declaration represents a political commitment among declaration partners to advance a positive vision for the Internet in this era of a united europe\n",
      "Europe united a of era this in internet the for vision positive a advance to partners declaration among commitment political a represents declaration this\n",
      "[('a', 3), ('this', 2)]\n"
     ]
    }
   ],
   "source": [
    "sentence = input()\n",
    "First = sentence.split(' ')\n",
    "reversed_sentence = ' '.join(a[::-1]).lower()\n",
    "Second = reversed_sentence.capitalize()\n",
    "print(Second)\n",
    "from collections import Counter\n",
    "splitted = Second.split()\n",
    "Counter = Counter(split_it)\n",
    "most_occur = Counter.most_common(2)\n",
    "print(most_occur)"
   ]
  },
  {
   "cell_type": "code",
   "execution_count": null,
   "id": "fb9778f3",
   "metadata": {},
   "outputs": [],
   "source": []
  }
 ],
 "metadata": {
  "kernelspec": {
   "display_name": "Python 3 (ipykernel)",
   "language": "python",
   "name": "python3"
  },
  "language_info": {
   "codemirror_mode": {
    "name": "ipython",
    "version": 3
   },
   "file_extension": ".py",
   "mimetype": "text/x-python",
   "name": "python",
   "nbconvert_exporter": "python",
   "pygments_lexer": "ipython3",
   "version": "3.9.7"
  }
 },
 "nbformat": 4,
 "nbformat_minor": 5
}
